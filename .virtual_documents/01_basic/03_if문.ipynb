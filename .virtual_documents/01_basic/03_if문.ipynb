





#quiz1
citizen_certi= input('주민번호를 입력하세요:')
gender = "남자" if citizen_certi[7] == '1' or citizen_certi[7] =='3' else "여자"
print(gender)


#quiz2
email= input('이메일 입력:')
email_id = email[:email.index('@')] if '@' in set(email) else " @이 없습니다." 
print(email_id)



