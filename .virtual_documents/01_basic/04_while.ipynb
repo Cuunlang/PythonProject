treeHit = 0
while treeHit < 10:
    treeHit += 1
    print(f"나무를 {treeHit}번 찍었습니다.")
    if treeHit == 10: print("나무가 넘어갑니다")


for i in range(2,10):
    for j in range(1,10): print(f"{i}x{j}={i*j}")


for i in range(1,10):
    for j in range(2,10):
        print(f"{j}x{i}={i*j}",end=" ")
        if i*j < 10: print(end=" ")
    print('')



