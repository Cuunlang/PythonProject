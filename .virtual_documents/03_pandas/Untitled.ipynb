import pandas as pd


pew_df = pd.read_csv('data/pew.csv')


pew_df.head(1)


pew_df.melt(id_vars=['religion'],var_name="income",value_name="count")


car_df = pd.read_csv('인천광역시_소방장비 현황_20201231.csv',encoding ='cp949')


car_df.columns


car_df_melt = car_df.melt(id_vars='소방서별(1)')


car_df_melt.columns


car_df_melt.rename(columns={"소방서별(1)":"소방서명","variable":"차량종류"},inplace=True) #특정column의 인덱스만 수정, inplace : 덮어쓰기 여부


car_df_melt.head(1)


car_df_melt.columns = ['소방서명', '차량종류', '차량대수']


car_df_melt.columns


billboard_df = pd.read_csv('data/billboard.csv')


billboard_df.columns


billboard_df_melt = billboard_df.melt(id_vars=billboard_df.columns[0:5])


billboard_df_melt.columns = ['year', 'artist', 'track', 'time', 'date.entered', 'week', 'rating']


billboard_df_melt.columns
