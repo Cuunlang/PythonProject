{
 "cells": [
  {
   "cell_type": "raw",
   "id": "d218aae8-2cb6-4e1e-a8e4-e446b6678efa",
   "metadata": {},
   "source": [
    "quiz) 주민들록번호 입력받아서 성별을 출력하세요\n",
    "입력예) 123456-1234567\n",
    "8번째 자리값이 1,3이면 '남자'/ 2,4이면 '여자' 출력"
   ]
  },
  {
   "cell_type": "raw",
   "id": "86d6b303-d616-40dd-bc19-e3fc589f85fe",
   "metadata": {},
   "source": [
    "quiz2) 이메일 주소를 입력받아 @이 있는지 여부 체크하고 있으면 아이디부분만 출력, 없으면 @이 없다는 메세지 출력"
   ]
  },
  {
   "cell_type": "code",
   "execution_count": 3,
   "id": "92859b11-af5e-4cbc-8ff0-f26f85b2d2c2",
   "metadata": {},
   "outputs": [
    {
     "name": "stdin",
     "output_type": "stream",
     "text": [
      "주민번호를 입력하세요: 123456-2123456\n"
     ]
    },
    {
     "name": "stdout",
     "output_type": "stream",
     "text": [
      "여자\n"
     ]
    }
   ],
   "source": [
    "#quiz1\n",
    "citizen_certi= input('주민번호를 입력하세요:')\n",
    "gender = \"남자\" if citizen_certi[7] == '1' or citizen_certi[7] =='3' else \"여자\"\n",
    "print(gender)"
   ]
  },
  {
   "cell_type": "code",
   "execution_count": 7,
   "id": "13d88f1d-69e3-426b-87bf-6a3bc9a948e1",
   "metadata": {},
   "outputs": [
    {
     "name": "stdin",
     "output_type": "stream",
     "text": [
      "이메일 입력: asdpaspdpasdp@pawd\n"
     ]
    },
    {
     "name": "stdout",
     "output_type": "stream",
     "text": [
      "asdpaspdpasdp\n"
     ]
    }
   ],
   "source": [
    "#quiz2\n",
    "email= input('이메일 입력:')\n",
    "email_id = email[:email.index('@')] if '@' in set(email) else \" @이 없습니다.\" \n",
    "print(email_id)"
   ]
  },
  {
   "cell_type": "code",
   "execution_count": null,
   "id": "c9373be2-ba6a-4b6a-9459-354cedd751ab",
   "metadata": {},
   "outputs": [],
   "source": []
  }
 ],
 "metadata": {
  "kernelspec": {
   "display_name": "Python 3 (ipykernel)",
   "language": "python",
   "name": "python3"
  },
  "language_info": {
   "codemirror_mode": {
    "name": "ipython",
    "version": 3
   },
   "file_extension": ".py",
   "mimetype": "text/x-python",
   "name": "python",
   "nbconvert_exporter": "python",
   "pygments_lexer": "ipython3",
   "version": "3.11.7"
  }
 },
 "nbformat": 4,
 "nbformat_minor": 5
}
