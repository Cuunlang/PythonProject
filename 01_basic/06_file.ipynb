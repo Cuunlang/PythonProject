{
 "cells": [
  {
   "cell_type": "code",
   "execution_count": 5,
   "id": "4ed5c02d-f657-4e40-9f68-5d5d64b5c8ad",
   "metadata": {},
   "outputs": [],
   "source": [
    "f = open('test.txt','w',encoding='UTF-8')\n"
   ]
  },
  {
   "cell_type": "code",
   "execution_count": 6,
   "id": "1361d5d2-9dc0-4bd5-a49f-3dbcdce5035e",
   "metadata": {},
   "outputs": [
    {
     "data": {
      "text/plain": [
       "2"
      ]
     },
     "execution_count": 6,
     "metadata": {},
     "output_type": "execute_result"
    }
   ],
   "source": [
    "f.write(\"내용\")"
   ]
  },
  {
   "cell_type": "code",
   "execution_count": 7,
   "id": "47b2ef44-6a74-4ec7-97e1-7f4076e25711",
   "metadata": {},
   "outputs": [],
   "source": [
    "f.close()"
   ]
  },
  {
   "cell_type": "code",
   "execution_count": 15,
   "id": "9e9ec864-3387-4c49-bb0c-c6b778d5dd0d",
   "metadata": {},
   "outputs": [
    {
     "data": {
      "text/plain": [
       "False"
      ]
     },
     "execution_count": 15,
     "metadata": {},
     "output_type": "execute_result"
    }
   ],
   "source": [
    "from datetime import datetime\n",
    "2025 <= datetime.now().year"
   ]
  }
 ],
 "metadata": {
  "kernelspec": {
   "display_name": "Python 3 (ipykernel)",
   "language": "python",
   "name": "python3"
  },
  "language_info": {
   "codemirror_mode": {
    "name": "ipython",
    "version": 3
   },
   "file_extension": ".py",
   "mimetype": "text/x-python",
   "name": "python",
   "nbconvert_exporter": "python",
   "pygments_lexer": "ipython3",
   "version": "3.11.7"
  }
 },
 "nbformat": 4,
 "nbformat_minor": 5
}
