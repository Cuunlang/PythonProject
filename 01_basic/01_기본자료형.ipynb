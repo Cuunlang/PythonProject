{
 "cells": [
  {
   "cell_type": "markdown",
   "id": "282676a8-347b-49b9-b64d-1d7f71785845",
   "metadata": {},
   "source": [
    "# 1.데이터 타입 익히기"
   ]
  },
  {
   "cell_type": "markdown",
   "id": "5f6247d7-0c2d-4cda-959b-3454f3b8a8a7",
   "metadata": {},
   "source": [
    "## 1. 숫자형"
   ]
  },
  {
   "cell_type": "code",
   "execution_count": 1,
   "id": "95edb417-1071-4c41-b643-d8aad941d2fb",
   "metadata": {},
   "outputs": [
    {
     "data": {
      "text/plain": [
       "213"
      ]
     },
     "execution_count": 1,
     "metadata": {},
     "output_type": "execute_result"
    }
   ],
   "source": [
    "a=213\n",
    "a"
   ]
  },
  {
   "cell_type": "code",
   "execution_count": 5,
   "id": "a7bb72fa-d511-4db3-b58b-f29fcd4caf01",
   "metadata": {},
   "outputs": [
    {
     "name": "stdout",
     "output_type": "stream",
     "text": [
      "213 \n",
      " 123\n"
     ]
    }
   ],
   "source": [
    "b=123\n",
    "a\n",
    "b\n",
    "print(a,\"\\n\",b)"
   ]
  },
  {
   "cell_type": "code",
   "execution_count": 7,
   "id": "4233ff1c-ff42-40e5-bb90-216344f669f8",
   "metadata": {},
   "outputs": [
    {
     "data": {
      "text/plain": [
       "1.3"
      ]
     },
     "execution_count": 7,
     "metadata": {},
     "output_type": "execute_result"
    }
   ],
   "source": [
    "c=1.3\n",
    "c"
   ]
  },
  {
   "cell_type": "code",
   "execution_count": 9,
   "id": "6c23d832-2a78-4ae7-a8b7-9ba350a78170",
   "metadata": {},
   "outputs": [
    {
     "name": "stdout",
     "output_type": "stream",
     "text": [
      "<class 'int'>\n"
     ]
    }
   ],
   "source": [
    "print(type(a))"
   ]
  },
  {
   "cell_type": "code",
   "execution_count": 11,
   "id": "71227549-b4ef-444b-8986-1c870ae047fc",
   "metadata": {},
   "outputs": [
    {
     "data": {
      "text/plain": [
       "float"
      ]
     },
     "execution_count": 11,
     "metadata": {},
     "output_type": "execute_result"
    }
   ],
   "source": [
    "type(c)"
   ]
  },
  {
   "cell_type": "code",
   "execution_count": 14,
   "id": "bcff0e16-3fa8-4142-be2a-fd4e6cb70e56",
   "metadata": {},
   "outputs": [
    {
     "ename": "SyntaxError",
     "evalue": "invalid digit '8' in octal literal (3552656390.py, line 1)",
     "output_type": "error",
     "traceback": [
      "\u001b[1;36m  Cell \u001b[1;32mIn[14], line 1\u001b[1;36m\u001b[0m\n\u001b[1;33m    d= 0o8\u001b[0m\n\u001b[1;37m         ^\u001b[0m\n\u001b[1;31mSyntaxError\u001b[0m\u001b[1;31m:\u001b[0m invalid digit '8' in octal literal\n"
     ]
    }
   ],
   "source": [
    "d= 0o8\n",
    "d"
   ]
  },
  {
   "cell_type": "code",
   "execution_count": 16,
   "id": "771f4210-a7da-451c-8605-badb68aba376",
   "metadata": {},
   "outputs": [
    {
     "data": {
      "text/plain": [
       "127"
      ]
     },
     "execution_count": 16,
     "metadata": {},
     "output_type": "execute_result"
    }
   ],
   "source": [
    "d= 0o177\n",
    "d"
   ]
  },
  {
   "cell_type": "code",
   "execution_count": 18,
   "id": "96c2c94d-13e3-4a7d-b65b-c2364786f94a",
   "metadata": {},
   "outputs": [
    {
     "data": {
      "text/plain": [
       "int"
      ]
     },
     "execution_count": 18,
     "metadata": {},
     "output_type": "execute_result"
    }
   ],
   "source": [
    "type(d)"
   ]
  },
  {
   "cell_type": "code",
   "execution_count": 20,
   "id": "f07c1dd1-c039-47a7-b244-a79fb5e993a9",
   "metadata": {},
   "outputs": [
    {
     "data": {
      "text/plain": [
       "255"
      ]
     },
     "execution_count": 20,
     "metadata": {},
     "output_type": "execute_result"
    }
   ],
   "source": [
    "e= 0xFF\n",
    "e"
   ]
  },
  {
   "cell_type": "code",
   "execution_count": 24,
   "id": "29879e0e-e33d-4610-95f3-f3c8f56a0772",
   "metadata": {},
   "outputs": [
    {
     "name": "stdin",
     "output_type": "stream",
     "text": [
      "숫자를 입력하세요: 2\n"
     ]
    }
   ],
   "source": [
    "ex_input= input('숫자를 입력하세요:')"
   ]
  },
  {
   "cell_type": "code",
   "execution_count": 26,
   "id": "3def8065-56be-4d32-bd42-893c6e19030e",
   "metadata": {},
   "outputs": [
    {
     "name": "stdout",
     "output_type": "stream",
     "text": [
      "2\n",
      "<class 'str'>\n"
     ]
    }
   ],
   "source": [
    "print(ex_input)\n",
    "print(type(ex_input))"
   ]
  },
  {
   "cell_type": "code",
   "execution_count": 28,
   "id": "8b66ba45-3362-4322-bd4c-aee4ff6d2812",
   "metadata": {},
   "outputs": [
    {
     "name": "stdout",
     "output_type": "stream",
     "text": [
      "<class 'int'>\n"
     ]
    }
   ],
   "source": [
    "ex_input = int(ex_input)\n",
    "print(type(ex_input))"
   ]
  },
  {
   "cell_type": "raw",
   "id": "8369b635-796e-4eac-9c42-7057ffd77956",
   "metadata": {},
   "source": [
    "quiz> 박스당 3개씩 들어가는 과일이 있다. 전체 과일 갯술를 입력받아 몇박스 몇개가 남는지 계산"
   ]
  },
  {
   "cell_type": "code",
   "execution_count": 39,
   "id": "1a38871b-70ba-487c-9879-f91abc2007f3",
   "metadata": {},
   "outputs": [
    {
     "name": "stdin",
     "output_type": "stream",
     "text": [
      "과일 갯수를 입력하시오: 1000\n"
     ]
    },
    {
     "name": "stdout",
     "output_type": "stream",
     "text": [
      "박스갯수:333개\n",
      "남은 갯수:1개\n"
     ]
    }
   ],
   "source": [
    "fruit_count = int(input('과일 갯수를 입력하시오:'))\n",
    "print(f\"박스갯수:{fruit_count//3}개\\n남은 갯수:{fruit_count%3}개\")"
   ]
  },
  {
   "cell_type": "markdown",
   "id": "2c12dc37-327d-43e1-9670-ba9de0b1dffa",
   "metadata": {},
   "source": [
    "## 2.문자열 자료형 "
   ]
  },
  {
   "cell_type": "code",
   "execution_count": 43,
   "id": "3425b6a7-f55b-4880-a4c4-78311769f4b5",
   "metadata": {},
   "outputs": [
    {
     "data": {
      "text/plain": [
       "'asd@asd.com'"
      ]
     },
     "execution_count": 43,
     "metadata": {},
     "output_type": "execute_result"
    }
   ],
   "source": [
    "email=\"asd@asd.com\"\n",
    "cust=[{'email':email}]\n",
    "cust[0]['email']"
   ]
  },
  {
   "cell_type": "markdown",
   "id": "f23114ee-f381-4753-a6da-8bc496d9673b",
   "metadata": {},
   "source": [
    "이메일 주소를 입력받아, .com으로 끝나는지 내용을 출력"
   ]
  },
  {
   "cell_type": "code",
   "execution_count": 55,
   "id": "2856bad6-2f3a-43aa-8f28-ceb60197fa2b",
   "metadata": {},
   "outputs": [
    {
     "name": "stdin",
     "output_type": "stream",
     "text": [
      "이메일 주소 입력: asd@asd.com\n"
     ]
    },
    {
     "name": "stdout",
     "output_type": "stream",
     "text": [
      "맞아요\n"
     ]
    }
   ],
   "source": [
    "email = input('이메일 주소 입력:')\n",
    "\n",
    "if email[-4:] != '.com':\n",
    "    print(\"이메일 형식이 틀렸습니다\")\n",
    "    print(email[-1:-4])\n",
    "else: print(\"맞아요\")"
   ]
  },
  {
   "cell_type": "code",
   "execution_count": 62,
   "id": "c3febdce-7e1c-4116-87dc-40d10ab225e2",
   "metadata": {},
   "outputs": [
    {
     "data": {
      "text/plain": [
       "3"
      ]
     },
     "execution_count": 62,
     "metadata": {},
     "output_type": "execute_result"
    }
   ],
   "source": [
    "z=[{'name':'asasdd','email':'asd'},{'name':'aasdsd','email':'dsa'}]\n",
    "z[1]['name'] = 'zzzz'\n",
    "len(z[1]['email'])"
   ]
  },
  {
   "cell_type": "code",
   "execution_count": 60,
   "id": "e0d79973-8fb6-4299-9884-ba00b79ca38b",
   "metadata": {},
   "outputs": [
    {
     "name": "stdout",
     "output_type": "stream",
     "text": [
      "0\n",
      "1\n",
      "2\n",
      "3\n",
      "4\n"
     ]
    }
   ],
   "source": [
    "for i in range(5):\n",
    "    print(i)"
   ]
  },
  {
   "cell_type": "code",
   "execution_count": 63,
   "id": "60b32ad6-8a9d-49ef-9e29-2ca9315a1cf9",
   "metadata": {},
   "outputs": [],
   "source": [
    "t1 = ()\n",
    "t2 = (1,)\n",
    "t3 = (1, 2, 3)\n",
    "t4 = 1, 2, 3\n",
    "t5 = ('a', 'b', ('ab', 'cd'))\n"
   ]
  },
  {
   "cell_type": "code",
   "execution_count": 65,
   "id": "bd938d55-9a83-49dd-8506-753232f684b9",
   "metadata": {},
   "outputs": [
    {
     "name": "stdout",
     "output_type": "stream",
     "text": [
      "<class 'tuple'> <class 'tuple'>\n"
     ]
    }
   ],
   "source": [
    "print(type(t1),type(t4))"
   ]
  },
  {
   "cell_type": "code",
   "execution_count": 67,
   "id": "f908d8b1-e66f-4158-b9a4-fb1ce9a1b475",
   "metadata": {},
   "outputs": [
    {
     "data": {
      "text/plain": [
       "('a', 's', 'd')"
      ]
     },
     "execution_count": 67,
     "metadata": {},
     "output_type": "execute_result"
    }
   ],
   "source": [
    "tuple(\"asd\")"
   ]
  },
  {
   "cell_type": "code",
   "execution_count": 68,
   "id": "9e4d9674-285d-43fd-b72f-58796023946c",
   "metadata": {},
   "outputs": [
    {
     "data": {
      "text/plain": [
       "2"
      ]
     },
     "execution_count": 68,
     "metadata": {},
     "output_type": "execute_result"
    }
   ],
   "source": [
    "t3[1]"
   ]
  },
  {
   "cell_type": "code",
   "execution_count": 69,
   "id": "a3ae252c-fe66-46a6-95e8-76ccab6d0d8f",
   "metadata": {},
   "outputs": [
    {
     "ename": "TypeError",
     "evalue": "'tuple' object does not support item assignment",
     "output_type": "error",
     "traceback": [
      "\u001b[1;31m---------------------------------------------------------------------------\u001b[0m",
      "\u001b[1;31mTypeError\u001b[0m                                 Traceback (most recent call last)",
      "Cell \u001b[1;32mIn[69], line 1\u001b[0m\n\u001b[1;32m----> 1\u001b[0m t3[\u001b[38;5;241m1\u001b[39m] \u001b[38;5;241m=\u001b[39m \u001b[38;5;241m5\u001b[39m\n",
      "\u001b[1;31mTypeError\u001b[0m: 'tuple' object does not support item assignment"
     ]
    }
   ],
   "source": [
    "t3[1] = 5"
   ]
  },
  {
   "cell_type": "code",
   "execution_count": 72,
   "id": "a5178b52-1911-470c-bc17-4674e7c9ee27",
   "metadata": {},
   "outputs": [],
   "source": [
    "dic = {'name':'asd','you':'me','age':10}"
   ]
  },
  {
   "cell_type": "code",
   "execution_count": 73,
   "id": "e2ef0dec-6dfd-4fef-9ea6-640a3114cd18",
   "metadata": {},
   "outputs": [],
   "source": [
    "dic[(1,2)] = (1,2,3,4)"
   ]
  },
  {
   "cell_type": "code",
   "execution_count": 74,
   "id": "3e197881-5154-4618-9a53-ae2d2f36a049",
   "metadata": {},
   "outputs": [
    {
     "data": {
      "text/plain": [
       "{'name': 'asd', 'you': 'me', 'age': 10, (1, 2): (1, 2, 3, 4)}"
      ]
     },
     "execution_count": 74,
     "metadata": {},
     "output_type": "execute_result"
    }
   ],
   "source": [
    "dic"
   ]
  },
  {
   "cell_type": "code",
   "execution_count": 75,
   "id": "dde7b510-e7b5-42e5-980d-36fd143768a6",
   "metadata": {},
   "outputs": [
    {
     "data": {
      "text/plain": [
       "{'name': 'asd', 'you': 'me', 'age': 10, (1, 2): (1, 2, 3, 4), 1: 1}"
      ]
     },
     "execution_count": 75,
     "metadata": {},
     "output_type": "execute_result"
    }
   ],
   "source": [
    "dic[1] = 1\n",
    "dic"
   ]
  },
  {
   "cell_type": "code",
   "execution_count": 76,
   "id": "fb55f6ef-a2ee-4b23-a5a8-9752b9ad3a5b",
   "metadata": {},
   "outputs": [
    {
     "data": {
      "text/plain": [
       "dict_items([('name', 'asd'), ('you', 'me'), ('age', 10), ((1, 2), (1, 2, 3, 4)), (1, 1)])"
      ]
     },
     "execution_count": 76,
     "metadata": {},
     "output_type": "execute_result"
    }
   ],
   "source": [
    "dic.items()"
   ]
  },
  {
   "cell_type": "code",
   "execution_count": 77,
   "id": "be81d702-e69c-4a44-af4a-6575236e5950",
   "metadata": {},
   "outputs": [
    {
     "data": {
      "text/plain": [
       "dict_keys(['name', 'you', 'age', (1, 2), 1])"
      ]
     },
     "execution_count": 77,
     "metadata": {},
     "output_type": "execute_result"
    }
   ],
   "source": [
    "dic_list = dic.keys()\n",
    "dic_list"
   ]
  },
  {
   "cell_type": "code",
   "execution_count": 78,
   "id": "785b530c-0c9c-4bf0-a4fa-5c148e2a88d3",
   "metadata": {},
   "outputs": [
    {
     "ename": "TypeError",
     "evalue": "'dict_keys' object is not subscriptable",
     "output_type": "error",
     "traceback": [
      "\u001b[1;31m---------------------------------------------------------------------------\u001b[0m",
      "\u001b[1;31mTypeError\u001b[0m                                 Traceback (most recent call last)",
      "Cell \u001b[1;32mIn[78], line 1\u001b[0m\n\u001b[1;32m----> 1\u001b[0m dic_list[\u001b[38;5;241m1\u001b[39m]\n",
      "\u001b[1;31mTypeError\u001b[0m: 'dict_keys' object is not subscriptable"
     ]
    }
   ],
   "source": [
    "dic_list[1]"
   ]
  },
  {
   "cell_type": "code",
   "execution_count": 79,
   "id": "68c47bcf-aaa9-45ca-89b1-4aa9412f5553",
   "metadata": {},
   "outputs": [],
   "source": [
    "dic_list2 = list(dic_list)"
   ]
  },
  {
   "cell_type": "code",
   "execution_count": 80,
   "id": "a5695973-3739-4989-a206-eb6e0a441584",
   "metadata": {},
   "outputs": [
    {
     "data": {
      "text/plain": [
       "'asd'"
      ]
     },
     "execution_count": 80,
     "metadata": {},
     "output_type": "execute_result"
    }
   ],
   "source": [
    "dic.get('name')"
   ]
  },
  {
   "cell_type": "code",
   "execution_count": 82,
   "id": "ca2e4810-1ab5-4304-aaa8-d37dd44dcc7b",
   "metadata": {},
   "outputs": [],
   "source": [
    "dic.get('name1') #에러 x"
   ]
  },
  {
   "cell_type": "code",
   "execution_count": 83,
   "id": "a24cc9a1-11af-4380-9e1d-11031ee1b848",
   "metadata": {},
   "outputs": [
    {
     "data": {
      "text/plain": [
       "True"
      ]
     },
     "execution_count": 83,
     "metadata": {},
     "output_type": "execute_result"
    }
   ],
   "source": [
    "'name' in dic"
   ]
  },
  {
   "cell_type": "code",
   "execution_count": 84,
   "id": "a2349a5d-a058-4e52-a6a7-389a4bb4d179",
   "metadata": {},
   "outputs": [
    {
     "data": {
      "text/plain": [
       "False"
      ]
     },
     "execution_count": 84,
     "metadata": {},
     "output_type": "execute_result"
    }
   ],
   "source": [
    "'asd' in dic"
   ]
  },
  {
   "cell_type": "code",
   "execution_count": 89,
   "id": "550735cc-d410-4800-8edd-3a16de50a06a",
   "metadata": {},
   "outputs": [
    {
     "data": {
      "text/plain": [
       "True"
      ]
     },
     "execution_count": 89,
     "metadata": {},
     "output_type": "execute_result"
    }
   ],
   "source": [
    "('name','asd') in dic.items()"
   ]
  },
  {
   "cell_type": "code",
   "execution_count": 91,
   "id": "d2d0ee00-2301-4077-9e4f-c8ea9ff39f51",
   "metadata": {},
   "outputs": [
    {
     "data": {
      "text/plain": [
       "False"
      ]
     },
     "execution_count": 91,
     "metadata": {},
     "output_type": "execute_result"
    }
   ],
   "source": [
    "dic2 = [{'name':'asd','a':'b'},{'name':'dsa'},{'name':'dsasda'}]\n",
    "{'name':'asd'} in dic2"
   ]
  },
  {
   "cell_type": "code",
   "execution_count": 95,
   "id": "6e45adda-8e1a-4d32-9a27-bd32e85df6d3",
   "metadata": {},
   "outputs": [
    {
     "data": {
      "text/plain": [
       "{0, 1, 2, 3, 4, 5, 6, 7, 8, 9}"
      ]
     },
     "execution_count": 95,
     "metadata": {},
     "output_type": "execute_result"
    }
   ],
   "source": [
    "set1 = {1,7,8,3,6,9,7,8,9,2,5,7,8,6,7,6,5,3,2,1,5,6,7,8,4,0,5}\n",
    "set1"
   ]
  },
  {
   "cell_type": "code",
   "execution_count": 96,
   "id": "0aac2c93-9307-4b2c-ab65-f6544a31259d",
   "metadata": {},
   "outputs": [
    {
     "data": {
      "text/plain": [
       "False"
      ]
     },
     "execution_count": 96,
     "metadata": {},
     "output_type": "execute_result"
    }
   ],
   "source": [
    "bool('')"
   ]
  },
  {
   "cell_type": "code",
   "execution_count": 97,
   "id": "a97aec32-3fa3-4487-8d05-5497d2e3f1d8",
   "metadata": {},
   "outputs": [
    {
     "data": {
      "text/plain": [
       "True"
      ]
     },
     "execution_count": 97,
     "metadata": {},
     "output_type": "execute_result"
    }
   ],
   "source": [
    "bool('asd')"
   ]
  },
  {
   "cell_type": "code",
   "execution_count": 98,
   "id": "b8f6312a-9236-4daa-a410-3b067e507851",
   "metadata": {},
   "outputs": [
    {
     "data": {
      "text/plain": [
       "True"
      ]
     },
     "execution_count": 98,
     "metadata": {},
     "output_type": "execute_result"
    }
   ],
   "source": [
    "bool(123)"
   ]
  },
  {
   "cell_type": "code",
   "execution_count": 100,
   "id": "a6382c9d-0e18-42c8-9373-8212a9782a3f",
   "metadata": {},
   "outputs": [
    {
     "data": {
      "text/plain": [
       "1947850291264"
      ]
     },
     "execution_count": 100,
     "metadata": {},
     "output_type": "execute_result"
    }
   ],
   "source": [
    "a = [1,2,3]\n",
    "id(a) #메모리주소"
   ]
  },
  {
   "cell_type": "code",
   "execution_count": 101,
   "id": "ee88b028-87b1-4e16-a687-157aef8f41d0",
   "metadata": {},
   "outputs": [
    {
     "data": {
      "text/plain": [
       "1947850291264"
      ]
     },
     "execution_count": 101,
     "metadata": {},
     "output_type": "execute_result"
    }
   ],
   "source": [
    "b = a\n",
    "id(b)"
   ]
  },
  {
   "cell_type": "code",
   "execution_count": 102,
   "id": "552947ee-7434-4cf6-96ad-1f1de1df2edc",
   "metadata": {},
   "outputs": [
    {
     "data": {
      "text/plain": [
       "1947850291264"
      ]
     },
     "execution_count": 102,
     "metadata": {},
     "output_type": "execute_result"
    }
   ],
   "source": [
    "b.append(4)\n",
    "id(b)"
   ]
  },
  {
   "cell_type": "code",
   "execution_count": 103,
   "id": "d519c84a-a1a7-4722-a24f-29a69324d9e5",
   "metadata": {},
   "outputs": [
    {
     "name": "stdout",
     "output_type": "stream",
     "text": [
      "[1, 2, 3, 4]\n"
     ]
    }
   ],
   "source": [
    "id(a)\n",
    "print(a)"
   ]
  },
  {
   "cell_type": "code",
   "execution_count": 104,
   "id": "8aa20782-f846-48d1-8284-c3848cff9334",
   "metadata": {},
   "outputs": [
    {
     "data": {
      "text/plain": [
       "1947850291264"
      ]
     },
     "execution_count": 104,
     "metadata": {},
     "output_type": "execute_result"
    }
   ],
   "source": [
    "id(a)"
   ]
  },
  {
   "cell_type": "code",
   "execution_count": null,
   "id": "ff946140-3f96-4e6c-97a8-76a380182ad1",
   "metadata": {},
   "outputs": [],
   "source": []
  }
 ],
 "metadata": {
  "kernelspec": {
   "display_name": "Python 3 (ipykernel)",
   "language": "python",
   "name": "python3"
  },
  "language_info": {
   "codemirror_mode": {
    "name": "ipython",
    "version": 3
   },
   "file_extension": ".py",
   "mimetype": "text/x-python",
   "name": "python",
   "nbconvert_exporter": "python",
   "pygments_lexer": "ipython3",
   "version": "3.11.7"
  }
 },
 "nbformat": 4,
 "nbformat_minor": 5
}
